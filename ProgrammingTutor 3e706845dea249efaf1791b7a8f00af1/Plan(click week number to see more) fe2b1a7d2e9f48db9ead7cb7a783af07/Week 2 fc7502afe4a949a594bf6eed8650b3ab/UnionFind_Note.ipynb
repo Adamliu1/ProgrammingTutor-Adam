{
 "cells": [
  {
   "cell_type": "markdown",
   "id": "biological-valley",
   "metadata": {},
   "source": [
    "# Union-Find Problem\n",
    "\n",
    "Given a set of N objects\n",
    "* Union: connect two objects\n",
    "* find: Is there a path connecting the two objects?\n",
    "\n",
    "## Efficiency\n",
    "| Algorithm | Init | Union | Find |\n",
    "| --- | --- | --- | --- |\n",
    "| Quick-Find(Eager) | N | N | 1 |\n",
    "| Quick-Union(Lazy) | N | N | N ← (Worst-Case) |\n",
    "| Weighted quick-union | N | lg N | lg N |\n",
    "\n",
    "## Further Improvements:\n",
    "* Bottleneck is root()\n",
    "* Quick-union with path compression"
   ]
  },
  {
   "cell_type": "markdown",
   "id": "worthy-theme",
   "metadata": {},
   "source": [
    "## Eager Approach (Quick-find)\n",
    "### Data Structure\n",
    "* Object: integer array **id[]** of length **N**\n",
    "* Interpretation: **id[i]** is the component to which **i** belongs\n",
    "* Connections: **u** and **v** are connected iff they have the same **id**\n"
   ]
  },
  {
   "cell_type": "code",
   "execution_count": 17,
   "id": "wired-beads",
   "metadata": {},
   "outputs": [],
   "source": [
    "# Union-Find Eager approach (Quick Find)\n",
    "class UnionFind_Eager:\n",
    "\n",
    "    def __init__(self,N):\n",
    "        self.numNode = N\n",
    "        self.idArray = []\n",
    "        for i in range(self.numNode):\n",
    "            self.idArray.append(i)\n",
    "    \n",
    "    def union(self, u,v):\n",
    "        uid = self.idArray[u]\n",
    "        vid = self.idArray[v]\n",
    "        for i in range(self.numNode):\n",
    "            if self.idArray[i] == uid:\n",
    "                self.idArray[i] = vid\n",
    "\n",
    "    def find(self, u,v):\n",
    "        return self.idArray[u] == self.idArray[v]"
   ]
  },
  {
   "cell_type": "code",
   "execution_count": 18,
   "id": "specific-utilization",
   "metadata": {},
   "outputs": [
    {
     "name": "stdout",
     "output_type": "stream",
     "text": [
      "[6, 7, 7, 4, 4, 6, 6, 7, 4]\n",
      "0, 5 -> True\n",
      "0, 6 -> True\n",
      "5, 6 -> True\n",
      "1, 7 -> True\n",
      "8, 3 -> True\n",
      "3, 8 -> True\n",
      "0, 1 -> False\n"
     ]
    }
   ],
   "source": [
    "## Test Code\n",
    "N = 9\n",
    "myEager = UnionFind_Eager(N)\n",
    "\n",
    "myEager.union(0,5)\n",
    "myEager.union(1,2)\n",
    "myEager.union(5,6)\n",
    "myEager.union(2,7)\n",
    "myEager.union(8,3)\n",
    "myEager.union(3,4)\n",
    "myEager.union(4,8)\n",
    "\n",
    "print(myEager.idArray)\n",
    "\n",
    "## Test Find\n",
    "print(f\"0, 5 -> {myEager.find(0,5)}\")\n",
    "print(f\"0, 6 -> {myEager.find(0,6)}\")\n",
    "print(f\"5, 6 -> {myEager.find(5,6)}\")\n",
    "print(f\"1, 7 -> {myEager.find(1,7)}\")\n",
    "print(f\"8, 3 -> {myEager.find(8,3)}\")\n",
    "\n",
    "print(f\"3, 8 -> {myEager.find(3,8)}\")\n",
    "\n",
    "## False case\n",
    "print(f\"0, 1 -> {myEager.find(0,1)}\")"
   ]
  },
  {
   "cell_type": "markdown",
   "id": "several-unemployment",
   "metadata": {},
   "source": [
    "## Lazy Approach (Quick-Union)\n",
    "### Data Structure\n",
    "* Object: integer array **id[]** of length **N**\n",
    "* Interpretation: **id[i]** is the parent of **i**\n",
    "* Connections: **u** and **v** are connected iff they have the same **root**"
   ]
  },
  {
   "cell_type": "code",
   "execution_count": 19,
   "id": "positive-illinois",
   "metadata": {},
   "outputs": [],
   "source": [
    "# Union-Find Lazy approach (Quick Union)\n",
    "class UnionFind_lazy:\n",
    "\n",
    "    def __init__(self,N):\n",
    "        self.numNode = N\n",
    "        self.idArray = []\n",
    "        for i in range(self.numNode):\n",
    "            self.idArray.append(i)\n",
    "    \n",
    "    def root(self, i):\n",
    "        while i != self.idArray[i]:\n",
    "            i = self.idArray[i]\n",
    "        return i\n",
    "\n",
    "    def union(self, u,v):\n",
    "        r_u = self.root(u)\n",
    "        r_v = self.root(v)\n",
    "        self.idArray[r_u] = r_v\n",
    "\n",
    "    def find(self, u,v):\n",
    "        return self.root(u) == self.root(v)"
   ]
  },
  {
   "cell_type": "code",
   "execution_count": 20,
   "id": "czech-elimination",
   "metadata": {},
   "outputs": [
    {
     "name": "stdout",
     "output_type": "stream",
     "text": [
      "[5, 2, 7, 4, 4, 6, 6, 7, 3]\n",
      "0, 5 -> True\n",
      "0, 6 -> True\n",
      "5, 6 -> True\n",
      "1, 7 -> True\n",
      "8, 3 -> True\n",
      "3, 8 -> True\n",
      "0, 1 -> False\n"
     ]
    }
   ],
   "source": [
    "## Test Code\n",
    "N = 9\n",
    "myLazy = UnionFind_lazy(N)\n",
    "\n",
    "myLazy.union(0,5)\n",
    "myLazy.union(1,2)\n",
    "myLazy.union(5,6)\n",
    "myLazy.union(2,7)\n",
    "myLazy.union(8,3)\n",
    "myLazy.union(3,4)\n",
    "myLazy.union(4,8)\n",
    "\n",
    "print(myLazy.idArray)\n",
    "\n",
    "## Test Find\n",
    "print(f\"0, 5 -> {myLazy.find(0,5)}\")\n",
    "print(f\"0, 6 -> {myLazy.find(0,6)}\")\n",
    "print(f\"5, 6 -> {myLazy.find(5,6)}\")\n",
    "print(f\"1, 7 -> {myLazy.find(1,7)}\")\n",
    "print(f\"8, 3 -> {myLazy.find(8,3)}\")\n",
    "\n",
    "print(f\"3, 8 -> {myLazy.find(3,8)}\")\n",
    "\n",
    "## False case\n",
    "print(f\"0, 1 -> {myLazy.find(0,1)}\")"
   ]
  },
  {
   "cell_type": "markdown",
   "id": "living-contrary",
   "metadata": {},
   "source": [
    "## Weighted Quick-Union\n",
    "\n",
    "### Idea\n",
    "* Modify quick-union to avoid tall trees\n",
    "* Additional data structure: Keep track of **size** of each tree\n",
    "* Union: link smaller tree to root of larger tree\n",
    "\n",
    "### Data Structure\n",
    "* Object: integer array **id[]** of length **N**, with **id[i]** being the **parent of i**\n",
    "* Additional array **size[]**, with **size[i]** being the number of objects in the tree rooted in **i**"
   ]
  },
  {
   "cell_type": "code",
   "execution_count": 15,
   "id": "endless-insurance",
   "metadata": {},
   "outputs": [],
   "source": [
    "# Union-Find Weighted quick-union\n",
    "class UnionFind_weighted_lazy:\n",
    "\n",
    "    def __init__(self,N):\n",
    "        self.numNode = N\n",
    "        self.idArray = []\n",
    "        self.sizeArray = []\n",
    "        for i in range(self.numNode):\n",
    "            self.idArray.append(i)\n",
    "            self.sizeArray.append(i)\n",
    "    \n",
    "    def root(self, i):\n",
    "        while i != self.idArray[i]:\n",
    "            i = self.idArray[i]\n",
    "        return i\n",
    "\n",
    "    def union(self, u,v):\n",
    "        r_u = self.root(u)\n",
    "        r_v = self.root(v)\n",
    "        if r_u == r_v:\n",
    "            return\n",
    "        if self.sizeArray[r_u] < self.sizeArray[r_v]:\n",
    "            self.idArray[r_u] = r_v\n",
    "            self.sizeArray[r_v] += self.sizeArray[r_u]\n",
    "        else:\n",
    "            self.idArray[r_v] = r_u\n",
    "            self.sizeArray[r_u] += self.sizeArray[r_v]\n",
    "\n",
    "    def find(self, u,v):\n",
    "        return self.root(u) == self.root(v)"
   ]
  },
  {
   "cell_type": "code",
   "execution_count": 16,
   "id": "presidential-lighter",
   "metadata": {},
   "outputs": [
    {
     "name": "stdout",
     "output_type": "stream",
     "text": [
      "[5, 2, 7, 8, 8, 6, 6, 7, 8]\n",
      "0, 5 -> True\n",
      "0, 6 -> True\n",
      "5, 6 -> True\n",
      "1, 7 -> True\n",
      "8, 3 -> True\n",
      "3, 8 -> True\n",
      "0, 1 -> False\n"
     ]
    }
   ],
   "source": [
    "## Test Code\n",
    "N = 9\n",
    "myLazyWeighted = UnionFind_weighted_lazy(N)\n",
    "\n",
    "myLazyWeighted.union(0,5)\n",
    "myLazyWeighted.union(1,2)\n",
    "myLazyWeighted.union(5,6)\n",
    "myLazyWeighted.union(2,7)\n",
    "myLazyWeighted.union(8,3)\n",
    "myLazyWeighted.union(3,4)\n",
    "myLazyWeighted.union(4,8)\n",
    "\n",
    "print(myLazyWeighted.idArray)\n",
    "\n",
    "## Test Find\n",
    "print(f\"0, 5 -> {myLazyWeighted.find(0,5)}\")\n",
    "print(f\"0, 6 -> {myLazyWeighted.find(0,6)}\")\n",
    "print(f\"5, 6 -> {myLazyWeighted.find(5,6)}\")\n",
    "print(f\"1, 7 -> {myLazyWeighted.find(1,7)}\")\n",
    "print(f\"8, 3 -> {myLazyWeighted.find(8,3)}\")\n",
    "\n",
    "print(f\"3, 8 -> {myLazyWeighted.find(3,8)}\")\n",
    "\n",
    "## False case\n",
    "print(f\"0, 1 -> {myLazyWeighted.find(0,1)}\")"
   ]
  },
  {
   "cell_type": "code",
   "execution_count": null,
   "id": "distinguished-madagascar",
   "metadata": {},
   "outputs": [],
   "source": []
  }
 ],
 "metadata": {
  "kernelspec": {
   "display_name": "Python 3",
   "language": "python",
   "name": "python3"
  },
  "language_info": {
   "codemirror_mode": {
    "name": "ipython",
    "version": 3
   },
   "file_extension": ".py",
   "mimetype": "text/x-python",
   "name": "python",
   "nbconvert_exporter": "python",
   "pygments_lexer": "ipython3",
   "version": "3.8.2"
  }
 },
 "nbformat": 4,
 "nbformat_minor": 5
}
